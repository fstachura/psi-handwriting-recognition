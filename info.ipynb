{
 "cells": [
  {
   "cell_type": "markdown",
   "id": "72bb45bd-3ac6-4344-9a86-fed79d55ca36",
   "metadata": {},
   "source": [
    "## Datasety\n",
    "\n",
    "* http://yann.lecun.com/exdb/mnist/\n",
    "* https://www.nist.gov/itl/products-and-services/emnist-dataset\n",
    "* https://www.kaggle.com/datasets/sachinpatel21/az-handwritten-alphabets-in-csv-format/data\n",
    "\n",
    "Inne\n",
    "\n",
    "* https://www.openml.org/search?type=data&status=any&id=45082\n",
    "* https://www.kaggle.com/datasets/landlord/handwriting-recognition - handwritten imiona \n",
    "* https://didadataset.github.io/DIDA/\n",
    "* https://www.openml.org/search?type=data&status=any&id=1501\n",
    "* https://fki.tic.heia-fr.ch/databases/iam-handwriting-database\n",
    "* https://info-ee.surrey.ac.uk/CVSSP/demos/chars74k/\n",
    "* https://cardisdataset.github.io/CARDIS/\n",
    "* https://github.com/rois-codh/kmnist"
   ]
  },
  {
   "cell_type": "markdown",
   "id": "e177d2f2-bea0-4e21-bd02-49f6b277de07",
   "metadata": {},
   "source": [
    "# Źródła\n",
    "\n",
    "* https://link.springer.com/article/10.1023/A:1012454411458\n",
    "* https://scikit-learn.org/stable/auto_examples/classification/plot_digits_classification.html#sphx-glr-auto-examples-classification-plot-digits-classification-py"
   ]
  },
  {
   "cell_type": "code",
   "execution_count": null,
   "id": "9127eb34-19ab-495f-8aff-31d99cd62d74",
   "metadata": {},
   "outputs": [],
   "source": []
  }
 ],
 "metadata": {
  "kernelspec": {
   "display_name": "",
   "name": ""
  },
  "language_info": {
   "name": ""
  }
 },
 "nbformat": 4,
 "nbformat_minor": 5
}
